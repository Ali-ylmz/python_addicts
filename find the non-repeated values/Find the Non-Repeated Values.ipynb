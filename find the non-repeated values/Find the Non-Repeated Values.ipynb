{
 "cells": [
  {
   "cell_type": "code",
   "execution_count": null,
   "id": "b767fe0b",
   "metadata": {},
   "outputs": [],
   "source": [
    "Coding Challenge: Find the Non-Repeated Values\n",
    "\n",
    "The purpose of this coding challenge is to write a program that finds the non-repeated (appears only once) values in a list.\n",
    "Learning Outcomes\n",
    "\n",
    "At the end of this coding challenge, students will be able to;\n",
    "\n",
    "    Analyze a problem, identify, and apply programming knowledge for an appropriate solution.\n",
    "\n",
    "    Implement conditional statements effectively to solve a problem.\n",
    "\n",
    "    Implement loops to solve a problem.\n",
    "\n",
    "    Iterate through a list to gather data.\n",
    "\n",
    "    Demonstrate their knowledge of algorithmic design principles by solving the problem effectively.\n",
    "\n",
    "Problem Statement\n",
    "\n",
    "A book store is trying to find the books that are only left 1 in the stock. They have the book list and they ask you to find the books. You are going to write a computer program that finds the non-repeated values in the list. Also indicate how you have used computational thinking concepts to find the solution.\n",
    "\n",
    "Sample list for the test runs is as follows:\n",
    "\n",
    "products = [\"Pride and Prejudice\", \"To Kill a Mockingbird\", \"The Great Gatsby\",\\\n",
    "\"One Hundred Years of Solitude\", \"Pride and Prejudice\", \"In Cold Blood\", \"Wide Sargasso Sea\",\\\n",
    "\"One Hundred Years of Solitude\", \"Brave New World\",  \"The Great Gatsby\", \"Brave New World\",\\\n",
    "\"I Capture The Castle\", \"Brave New World\", \"The Great Gatsby\", \"The Great Gatsby\",\\\n",
    "\"One Hundred Years of Solitude\", \"Pride and Prejudice\"]\n",
    "\n",
    "    Expected Output:\n",
    "\n",
    "To Kill a Mockingbird\n",
    "In Cold Blood\n",
    "Wide Sargasso Sea\n",
    "I Capture The Castle\n"
   ]
  },
  {
   "cell_type": "code",
   "execution_count": 8,
   "id": "651fe1a7",
   "metadata": {},
   "outputs": [
    {
     "name": "stdout",
     "output_type": "stream",
     "text": [
      "To Kill a Mockingbird\n",
      "In Cold Blood\n",
      "Wide Sargasso Sea\n",
      "I Capture The Castle\n"
     ]
    }
   ],
   "source": [
    "products = [\"Pride and Prejudice\", \"To Kill a Mockingbird\", \"The Great Gatsby\",\\\n",
    "\"One Hundred Years of Solitude\", \"Pride and Prejudice\", \"In Cold Blood\", \"Wide Sargasso Sea\",\\\n",
    "\"One Hundred Years of Solitude\", \"Brave New World\",  \"The Great Gatsby\", \"Brave New World\",\\\n",
    "\"I Capture The Castle\", \"Brave New World\", \"The Great Gatsby\", \"The Great Gatsby\",\\\n",
    "\"One Hundred Years of Solitude\", \"Pride and Prejudice\"]\n",
    "\n",
    "for i in products:\n",
    "    if products.count(i) == 1:\n",
    "        print(i)"
   ]
  },
  {
   "cell_type": "code",
   "execution_count": null,
   "id": "9f441796",
   "metadata": {},
   "outputs": [],
   "source": []
  }
 ],
 "metadata": {
  "kernelspec": {
   "display_name": "Python 3",
   "language": "python",
   "name": "python3"
  },
  "language_info": {
   "codemirror_mode": {
    "name": "ipython",
    "version": 3
   },
   "file_extension": ".py",
   "mimetype": "text/x-python",
   "name": "python",
   "nbconvert_exporter": "python",
   "pygments_lexer": "ipython3",
   "version": "3.8.8"
  }
 },
 "nbformat": 4,
 "nbformat_minor": 5
}
