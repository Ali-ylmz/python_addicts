{
 "cells": [
  {
   "cell_type": "markdown",
   "id": "bbfb06e6",
   "metadata": {},
   "source": [
    "    # Question : Given a list of tuples, implement a method that sorts the list in ascending order by the second element inside the tuples and returns the list.\n",
    "    my_list = [(\"a\", 8), (\"m\", 3), (\"k\", 9), (\"c\", 5), (\"d\", 6)]"
   ]
  },
  {
   "cell_type": "code",
   "execution_count": 10,
   "id": "2c169309",
   "metadata": {},
   "outputs": [
    {
     "name": "stdout",
     "output_type": "stream",
     "text": [
      "[(3, 'm'), (5, 'c'), (6, 'd'), (8, 'a'), (9, 'k')]\n",
      "[('m', 3), ('c', 5), ('d', 6), ('a', 8), ('k', 9)]\n"
     ]
    }
   ],
   "source": [
    "def sırala(a):\n",
    "    sıralı = sorted([i[::-1] for i in a])\n",
    "    print(sıralı)\n",
    "    \n",
    "    sıralı = [i[::-1] for i in sıralı]\n",
    "    print(sıralı)\n",
    "    \n",
    "my_list = [(\"a\", 8), (\"m\", 3), (\"k\", 9), (\"c\", 5), (\"d\", 6)]\n",
    "\n",
    "sırala(my_list)\n"
   ]
  },
  {
   "cell_type": "code",
   "execution_count": null,
   "id": "6805b160",
   "metadata": {},
   "outputs": [],
   "source": []
  },
  {
   "cell_type": "code",
   "execution_count": 12,
   "id": "eaa81f76",
   "metadata": {},
   "outputs": [
    {
     "name": "stdout",
     "output_type": "stream",
     "text": [
      "[('m', 3), ('c', 5), ('d', 6), ('a', 8), ('k', 9)]\n"
     ]
    }
   ],
   "source": [
    "def sırala2(a):\n",
    "    son_durum = sorted(my_list, key =lambda x: x[1])\n",
    "    print(son_durum)\n",
    "\n",
    "sırala2(my_list)\n",
    "    \n",
    "    "
   ]
  },
  {
   "cell_type": "code",
   "execution_count": null,
   "id": "0a561c9c",
   "metadata": {},
   "outputs": [],
   "source": []
  }
 ],
 "metadata": {
  "kernelspec": {
   "display_name": "Python 3",
   "language": "python",
   "name": "python3"
  },
  "language_info": {
   "codemirror_mode": {
    "name": "ipython",
    "version": 3
   },
   "file_extension": ".py",
   "mimetype": "text/x-python",
   "name": "python",
   "nbconvert_exporter": "python",
   "pygments_lexer": "ipython3",
   "version": "3.8.8"
  }
 },
 "nbformat": 4,
 "nbformat_minor": 5
}
