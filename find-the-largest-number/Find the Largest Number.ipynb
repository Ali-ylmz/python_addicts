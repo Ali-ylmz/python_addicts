{
 "cells": [
  {
   "cell_type": "code",
   "execution_count": null,
   "id": "8a1980a1",
   "metadata": {},
   "outputs": [],
   "source": [
    "Coding Challenge 003 : Find the Largest Number\n",
    "\n",
    "Purpose of the this coding challenge is to solve a simple sorting problem in Python.\n",
    "Learning Outcomes\n",
    "\n",
    "At the end of the this coding challenge, students will be able to;\n",
    "\n",
    "    get a basic understanding of sorting algorithms.\n",
    "    demonstrate their knowledge of lists in python\n",
    "    implement loops to solve the problems in python\n",
    "    get a better understanding of computational thinking concepts\n",
    "\n",
    "Problem Statement\n",
    "\n",
    "    Write a python code that finds the largest number among the 5 numbers given by the user as input.\n",
    "\n",
    "    It is forbidden to use max() function.\n",
    "\n",
    "    Indicate which computational thinking concepts have you used.\n",
    "\n",
    "    Example for user inputs and respective outputs\n",
    "\n",
    "Input            Output\n",
    "------------     ------\n",
    "1 2 3 4 5         5\n",
    "67 85 19 39       85\n"
   ]
  },
  {
   "cell_type": "code",
   "execution_count": null,
   "id": "7a67a83f",
   "metadata": {},
   "outputs": [],
   "source": []
  },
  {
   "cell_type": "code",
   "execution_count": 3,
   "id": "ae4703da",
   "metadata": {},
   "outputs": [
    {
     "name": "stdout",
     "output_type": "stream",
     "text": [
      "1. sayıyı giriniz: 2\n",
      "2. sayıyı giriniz: 3\n",
      "3. sayıyı giriniz: 8\n",
      "4. sayıyı giriniz: 4\n",
      "5. sayıyı giriniz: 2\n",
      "Listenizdeki en büyük sayı: 8\n"
     ]
    }
   ],
   "source": [
    "sayilar = []\n",
    "for i in range(1, 6):\n",
    "    sayi = int(input(f\"{i}. sayıyı giriniz: \"))\n",
    "    sayilar.append(sayi)\n",
    "en_buyuk = sayilar[0]\n",
    "for i in range(4):\n",
    "    if sayilar[i] < sayilar[i+1]:\n",
    "        en_buyuk = sayilar[i+1]\n",
    "        \n",
    "print(f\"Listenizdeki en büyük sayı: {en_buyuk}\")"
   ]
  },
  {
   "cell_type": "code",
   "execution_count": null,
   "id": "796b9a0e",
   "metadata": {},
   "outputs": [],
   "source": []
  },
  {
   "cell_type": "code",
   "execution_count": 15,
   "id": "062b282c",
   "metadata": {},
   "outputs": [
    {
     "name": "stdout",
     "output_type": "stream",
     "text": [
      "1\n",
      "2\n",
      "34\n",
      "45\n",
      "4\n",
      "\n",
      "['1', '2', '34', '45', '4']\n",
      "max number:  45\n"
     ]
    }
   ],
   "source": [
    "list1 =[]\n",
    "while True:\n",
    "    nums = input()\n",
    "    if nums:\n",
    "        list1.append(nums)\n",
    "    else:\n",
    "        break\n",
    "print(list1)\n",
    "list1.sort(reverse=True)\n",
    "print(\"max number: \",list1[0])"
   ]
  },
  {
   "cell_type": "code",
   "execution_count": null,
   "id": "e3d27372",
   "metadata": {},
   "outputs": [],
   "source": []
  },
  {
   "cell_type": "code",
   "execution_count": null,
   "id": "b1654d91",
   "metadata": {},
   "outputs": [],
   "source": []
  },
  {
   "cell_type": "code",
   "execution_count": 17,
   "id": "46b22eed",
   "metadata": {},
   "outputs": [
    {
     "name": "stdout",
     "output_type": "stream",
     "text": [
      "please enter 5 numbers, number 1 : 2\n",
      "number 2 : 4\n",
      "number 3 : 25\n",
      "number 4 : 32\n",
      "number 5 : 7\n",
      "32\n"
     ]
    }
   ],
   "source": [
    "num1 = int(input (\"please enter 5 numbers, number 1 : \"))\n",
    "num2 = int(input (\"number 2 : \"))\n",
    "num3 = int(input (\"number 3 : \"))\n",
    "num4 = int(input (\"number 4 : \"))\n",
    "num5 = int(input (\"number 5 : \"))\n",
    "num = \"\"\n",
    "numbers = [num1, num2, num3, num4, num5]\n",
    "numbers.sort()\n",
    "print(numbers[4])"
   ]
  },
  {
   "cell_type": "code",
   "execution_count": null,
   "id": "49a6f28f",
   "metadata": {},
   "outputs": [],
   "source": []
  }
 ],
 "metadata": {
  "kernelspec": {
   "display_name": "Python 3",
   "language": "python",
   "name": "python3"
  },
  "language_info": {
   "codemirror_mode": {
    "name": "ipython",
    "version": 3
   },
   "file_extension": ".py",
   "mimetype": "text/x-python",
   "name": "python",
   "nbconvert_exporter": "python",
   "pygments_lexer": "ipython3",
   "version": "3.8.8"
  }
 },
 "nbformat": 4,
 "nbformat_minor": 5
}
