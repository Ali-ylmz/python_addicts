{
 "cells": [
  {
   "cell_type": "code",
   "execution_count": null,
   "id": "6e98274b",
   "metadata": {},
   "outputs": [],
   "source": [
    "Coding Challenge - 015: Generate Password\n",
    "\n",
    "The purpose of this coding challenge is to write a program that creates a random password from a given full name.\n",
    "Learning Outcomes\n",
    "\n",
    "At the end of this coding challenge, students will be able to;\n",
    "\n",
    "    Analyze a problem, identify, and apply programming knowledge for an appropriate solution.\n",
    "\n",
    "    Implement conditional statements effectively to solve a problem.\n",
    "\n",
    "    Implement loops to solve a problem.\n",
    "\n",
    "    Execute operations on strings.\n",
    "\n",
    "    Make use of random numbers to solve a problem.\n",
    "\n",
    "    Demonstrate their knowledge of algorithmic design principles by solving the problem effectively.\n",
    "\n",
    "Problem Statement\n",
    "\n",
    "Write a Python program that prompts the user to enter his/her full name (without any spaces) and then creates a secret password consisting of three letters (in lowercase) randomly picked up from his/her full name, and a random four-digit number. For example, if the user enters \"JackClarusway\", a secret password can probably be one of \"jcs1578\" or \"yka8832\" or \"awu1250\".\n",
    "\n",
    "    Expected Output:\n",
    "\n",
    "Please enter your full name: StephenClarkson\n",
    "rto8807\n",
    "\n",
    "Please enter your full name: BillJames\n",
    "ils6032\n",
    "\n",
    "Please enter your full name: MarkJackson\n",
    "jkr7034\n",
    "\n",
    "Please enter your full name: CarlSmith\n",
    "iih7800\n"
   ]
  },
  {
   "cell_type": "code",
   "execution_count": 61,
   "id": "257480e8",
   "metadata": {},
   "outputs": [
    {
     "name": "stdout",
     "output_type": "stream",
     "text": [
      "Enter your name: betül\n"
     ]
    },
    {
     "data": {
      "text/plain": [
       "'tel9548'"
      ]
     },
     "execution_count": 61,
     "metadata": {},
     "output_type": "execute_result"
    }
   ],
   "source": [
    "def password_generator():\n",
    "    name = input(\"Enter your name: \")\n",
    "    a =\"\"\n",
    "    b =\"\"\n",
    "    for i in range(3):\n",
    "       # a = a + random.choice(name.lower().replace(\" \", \"\"))\n",
    "    \n",
    "        a = a + name[random.randint(0, len(name)-1)]\n",
    "\n",
    "    b = random.randint(1000, 9999)\n",
    "    return a + str(b)\n",
    "password_generator()"
   ]
  },
  {
   "cell_type": "code",
   "execution_count": null,
   "id": "4e2cfb61",
   "metadata": {},
   "outputs": [],
   "source": []
  },
  {
   "cell_type": "code",
   "execution_count": null,
   "id": "1c420a0e",
   "metadata": {},
   "outputs": [],
   "source": []
  }
 ],
 "metadata": {
  "kernelspec": {
   "display_name": "Python 3",
   "language": "python",
   "name": "python3"
  },
  "language_info": {
   "codemirror_mode": {
    "name": "ipython",
    "version": 3
   },
   "file_extension": ".py",
   "mimetype": "text/x-python",
   "name": "python",
   "nbconvert_exporter": "python",
   "pygments_lexer": "ipython3",
   "version": "3.8.8"
  }
 },
 "nbformat": 4,
 "nbformat_minor": 5
}
