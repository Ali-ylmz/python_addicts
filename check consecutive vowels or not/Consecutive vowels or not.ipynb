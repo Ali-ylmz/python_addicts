{
 "cells": [
  {
   "cell_type": "code",
   "execution_count": null,
   "id": "53227ff2",
   "metadata": {},
   "outputs": [],
   "source": [
    "\n",
    "Learning Outcomes\n",
    "\n",
    "At the end of this coding challenge, students will be able to;\n",
    "\n",
    "    Analyze a problem, identify, and apply programming knowledge for an appropriate solution.\n",
    "\n",
    "    Implement conditional statements effectively to solve a problem.\n",
    "\n",
    "    Implement loops to solve a problem.\n",
    "\n",
    "    Execute operations on strings.\n",
    "\n",
    "    Demonstrate their knowledge of algorithmic design principles by solving the problem effectively.\n",
    "\n",
    "Problem Statement\n",
    "\n",
    "In this coding challenge, you are going to write a program that takes a string and checks if it contains\n",
    "consecutive vowels or not. It should give Positive as an output if it contains consecutive vowels and\n",
    "Negative otherwise. For example saetqi string contains a adjacent to e, which means that it contains \n",
    "consecutive vowels. So it should give Positive as an output. On the other hand, \n",
    "if you take the string of statoqag, the output should be Negative.\n",
    "\n",
    "    Expected Output:\n",
    "\n",
    "Please enter a string: gasdph\n",
    "Negative\n",
    "\n",
    "Please enter a string: aiou\n",
    "Positive\n",
    "\n",
    "Please enter a string: taoum\n",
    "Positive\n",
    "\n",
    "Please enter a string: a\n",
    "Negative"
   ]
  },
  {
   "cell_type": "code",
   "execution_count": 10,
   "id": "c206870a",
   "metadata": {},
   "outputs": [
    {
     "name": "stdout",
     "output_type": "stream",
     "text": [
      "What is your word: ASSSSSAAA\n",
      "Positive\n"
     ]
    }
   ],
   "source": [
    "vowels = [\"a\", \"e\", \"ı\", \"i\", \"o\", \"ö\", \"u\", \"ü\"]\n",
    "word = input(\"What is your word: \").lower()\n",
    "result = \"Negative\"\n",
    "sum = 0\n",
    "for i in word:\n",
    "    if i in vowels:\n",
    "        sum = sum + 1\n",
    "        if sum == 2:\n",
    "            result= \"Positive\"\n",
    "    else:\n",
    "        sum = 0\n",
    "print(result)"
   ]
  },
  {
   "cell_type": "code",
   "execution_count": null,
   "id": "7f7162fe",
   "metadata": {},
   "outputs": [],
   "source": []
  },
  {
   "cell_type": "code",
   "execution_count": null,
   "id": "014ddaa4",
   "metadata": {},
   "outputs": [],
   "source": []
  }
 ],
 "metadata": {
  "kernelspec": {
   "display_name": "Python 3",
   "language": "python",
   "name": "python3"
  },
  "language_info": {
   "codemirror_mode": {
    "name": "ipython",
    "version": 3
   },
   "file_extension": ".py",
   "mimetype": "text/x-python",
   "name": "python",
   "nbconvert_exporter": "python",
   "pygments_lexer": "ipython3",
   "version": "3.8.8"
  }
 },
 "nbformat": 4,
 "nbformat_minor": 5
}
