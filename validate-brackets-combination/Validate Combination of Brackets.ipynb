{
 "cells": [
  {
   "cell_type": "markdown",
   "id": "babd9a7b",
   "metadata": {},
   "source": [
    "    # Coding Challenge 004 : Validate Combination of Brackets\n",
    "\n",
    "Purpose of the this coding challenge is to solve a combination problem using loops.\n",
    "Learning Outcomes\n",
    "\n",
    "At the end of the this coding challenge, students will be able to;\n",
    "\n",
    "    understand the use of loops.\n",
    "    solve the advanced and complicated problems.\n",
    "    understand the importance of pattern recognition.\n",
    "    get a better understanding in manipulating lists or strings.\n",
    "\n",
    "Problem Statement\n",
    "\n",
    "    Write a function that given a string containing just the characters (, ), {, }, [ and ], determines if the input string is valid or not by using following rules.\n",
    "\n",
    "    An input string is valid if:\n",
    "\n",
    "        Open brackets must be closed by the same type of brackets.\n",
    "\n",
    "        Open brackets must be closed in the correct order.\n",
    "\n",
    "    Note that an empty string is also considered valid.\n",
    "\n",
    "    Example for user inputs and respective outputs\n",
    "\n",
    "Input           Output\n",
    "------------    ------\n",
    "\"()\"            true\n",
    "\"()[]{}\"        true\n",
    "\"(]\"            false\n",
    "\"([)]\"          false\n",
    "\"{[]}\"          true\n",
    "\"\"              true\n"
   ]
  },
  {
   "cell_type": "code",
   "execution_count": null,
   "id": "2df67976",
   "metadata": {},
   "outputs": [],
   "source": []
  },
  {
   "cell_type": "code",
   "execution_count": null,
   "id": "1ec5bdec",
   "metadata": {},
   "outputs": [],
   "source": [
    "# Hocanın çözümü Çooook basit ve güzelll"
   ]
  },
  {
   "cell_type": "code",
   "execution_count": null,
   "id": "58d89256",
   "metadata": {},
   "outputs": [],
   "source": [
    "def isValid(s) :\n",
    "    while \"()\" in s or \"{}\" in s or \"[]\" in s :\n",
    "        s = s.replace(\"()\", \"\").replace(\"[]\", \"\").replace(\"{}\", \"\")\n",
    "    return s ==\"\""
   ]
  },
  {
   "cell_type": "code",
   "execution_count": null,
   "id": "05edf938",
   "metadata": {},
   "outputs": [],
   "source": []
  },
  {
   "cell_type": "code",
   "execution_count": null,
   "id": "b39f85c0",
   "metadata": {},
   "outputs": [],
   "source": [
    "def brackets(letter):\n",
    "    stack = []\n",
    "    brack2 = { \"(\" : \")\", \"{\" : \"}\", \"[\" : \"]\"}\n",
    "\n",
    "    for l in letter:\n",
    "        if l in [\"(\", \"[\", \"{\"]:\n",
    "            stack.append(l)\n",
    "        elif stack and  l == brack2[stack[-1]]:\n",
    "            stack.pop()\n",
    "        else:\n",
    "            return False\n",
    "    return True\n",
    "\n",
    "while True:\n",
    "    letter = input (\"enter brackets : \")\n",
    "    if letter.lower() == \"exit\":\n",
    "        break\n",
    "    print(brackets(letter))"
   ]
  },
  {
   "cell_type": "code",
   "execution_count": null,
   "id": "3529b211",
   "metadata": {},
   "outputs": [],
   "source": []
  },
  {
   "cell_type": "code",
   "execution_count": null,
   "id": "f02bae8e",
   "metadata": {},
   "outputs": [],
   "source": [
    "a = input(\"Enter chracters : \")\n",
    "\n",
    "if (len(a) % 2 == 0):\n",
    "    \n",
    "    if a.count(\"(\") == a.count(\")\") and a.count(\"{\") == a.count(\"}\") and a.count(\"[\") == a.count(\"]\"):\n",
    "\n",
    "        i = 0\n",
    "        a_list = list(a)\n",
    "        \n",
    "        while (len(a_list) > 1) and (i+1 < len(a_list)):\n",
    "          \n",
    "            if (a_list[i] + a_list[i+1]) in [\"()\", \"{}\", \"[]\"]:\n",
    "\n",
    "                a_list.pop(i+1)\n",
    "                a_list.pop(i)\n",
    "                i = 0\n",
    "            else:\n",
    "                i +=1\n",
    "            \n",
    "        if a_list == []:\n",
    "            print(True)\n",
    "        else:\n",
    "            print(False)  \n",
    "            \n",
    "    else:\n",
    "        print(False)\n",
    "        \n",
    "else:\n",
    "    print(False)"
   ]
  }
 ],
 "metadata": {
  "kernelspec": {
   "display_name": "Python 3",
   "language": "python",
   "name": "python3"
  },
  "language_info": {
   "codemirror_mode": {
    "name": "ipython",
    "version": 3
   },
   "file_extension": ".py",
   "mimetype": "text/x-python",
   "name": "python",
   "nbconvert_exporter": "python",
   "pygments_lexer": "ipython3",
   "version": "3.8.8"
  }
 },
 "nbformat": 4,
 "nbformat_minor": 5
}
